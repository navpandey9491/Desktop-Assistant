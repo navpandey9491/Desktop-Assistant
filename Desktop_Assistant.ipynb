{
 "cells": [
  {
   "cell_type": "code",
   "execution_count": 33,
   "metadata": {},
   "outputs": [],
   "source": [
    "from gtts import gTTS\n",
    "import speech_recognition as sr\n",
    "import os\n",
    "import webbrowser\n",
    "import smtplib, ssl\n",
    "import re\n",
    "from weather import Weather"
   ]
  },
  {
   "cell_type": "code",
   "execution_count": 34,
   "metadata": {},
   "outputs": [],
   "source": [
    "def talkToMe(audio):\n",
    "    \"speaks audio passed as argument\"\n",
    "    print(audio)\n",
    "    tts = gTTS(text=audio)\n",
    "    tts.save('audio.mp3')\n",
    "    os.system(\"mpg123 audio.mp3\")"
   ]
  },
  {
   "cell_type": "code",
   "execution_count": 35,
   "metadata": {},
   "outputs": [
    {
     "name": "stdout",
     "output_type": "stream",
     "text": [
      "Requirement already satisfied: python3-weather-api in c:\\programdata\\anaconda3\\lib\\site-packages (0.0.3rc0)\n",
      "Requirement already satisfied: requests in c:\\programdata\\anaconda3\\lib\\site-packages (from python3-weather-api) (2.22.0)\n",
      "Requirement already satisfied: chardet<3.1.0,>=3.0.2 in c:\\programdata\\anaconda3\\lib\\site-packages (from requests->python3-weather-api) (3.0.4)\n",
      "Requirement already satisfied: urllib3!=1.25.0,!=1.25.1,<1.26,>=1.21.1 in c:\\programdata\\anaconda3\\lib\\site-packages (from requests->python3-weather-api) (1.25.8)\n",
      "Requirement already satisfied: certifi>=2017.4.17 in c:\\programdata\\anaconda3\\lib\\site-packages (from requests->python3-weather-api) (2019.11.28)\n",
      "Requirement already satisfied: idna<2.9,>=2.5 in c:\\programdata\\anaconda3\\lib\\site-packages (from requests->python3-weather-api) (2.8)\n",
      "Requirement already satisfied: pyaudio in c:\\programdata\\anaconda3\\lib\\site-packages (0.2.11)\n"
     ]
    }
   ],
   "source": [
    "! pip install python3-weather-api\n",
    "! pip install pyaudio"
   ]
  },
  {
   "cell_type": "code",
   "execution_count": 36,
   "metadata": {},
   "outputs": [
    {
     "name": "stderr",
     "output_type": "stream",
     "text": [
      "ERROR: Could not find a version that satisfies the requirement libportaudio2 (from versions: none)\n",
      "ERROR: No matching distribution found for libportaudio2\n"
     ]
    }
   ],
   "source": [
    "! pip install libportaudio2"
   ]
  },
  {
   "cell_type": "code",
   "execution_count": 37,
   "metadata": {},
   "outputs": [
    {
     "name": "stdout",
     "output_type": "stream",
     "text": [
      "Requirement already satisfied: wheel in c:\\programdata\\anaconda3\\lib\\site-packages (0.34.2)\n"
     ]
    }
   ],
   "source": [
    "! pip install wheel"
   ]
  },
  {
   "cell_type": "code",
   "execution_count": 38,
   "metadata": {},
   "outputs": [],
   "source": [
    "def myCommand():\n",
    "    \"listens for commands\"\n",
    "\n",
    "    r = sr.Recognizer()\n",
    "\n",
    "    with sr.Microphone() as source:\n",
    "        print('Ready...')\n",
    "        r.pause_threshold = 1\n",
    "        r.adjust_for_ambient_noise(source, duration=1)\n",
    "        audio = r.listen(source)\n",
    "\n",
    "    try:\n",
    "        command = r.recognize_google(audio).lower()\n",
    "        print('You said: ' + command + '\\n')\n",
    "\n",
    "    #loop back to continue to listen for commands if unrecognizable speech is received\n",
    "    except sr.UnknownValueError:\n",
    "        print('Your last command couldn\\'t be heard')\n",
    "        command = myCommand();\n",
    "\n",
    "    return command"
   ]
  },
  {
   "cell_type": "code",
   "execution_count": null,
   "metadata": {},
   "outputs": [
    {
     "name": "stdout",
     "output_type": "stream",
     "text": [
      "I am ready for your command\n",
      "Ready...\n",
      "Your last command couldn't be heard\n",
      "Ready...\n",
      "You said: ebay email\n",
      "\n",
      "Who is the recipient?\n",
      "Ready...\n",
      "You said: no need\n",
      "\n",
      "I don't know what you mean!\n",
      "Ready...\n",
      "You said: not need\n",
      "\n",
      "Ready...\n",
      "You said: nerf eat\n",
      "\n",
      "Ready...\n",
      "You said: matinee\n",
      "\n",
      "Ready...\n",
      "You said: nerf need\n",
      "\n",
      "Ready...\n",
      "Your last command couldn't be heard\n",
      "Ready...\n",
      "Your last command couldn't be heard\n",
      "Ready...\n",
      "Your last command couldn't be heard\n",
      "Ready...\n"
     ]
    }
   ],
   "source": [
    "def assistant(command):\n",
    "    \"if statements for executing commands\"\n",
    "\n",
    "    if 'open google' in command:\n",
    "        chrome_path = \"C:\\Program Files (x86)\\Google\\Chrome\\Application\\chrome.exe\"\n",
    "        webbrowser.register('chrome', None,webbrowser.BackgroundBrowser(chrome_path),1)\n",
    "        url = 'https://www.google.com/'\n",
    "        webbrowser.get('chrome').open(url)\n",
    "\n",
    "    elif 'what\\'s up' in command:\n",
    "        talkToMe('Just doing my thing')\n",
    "        \n",
    "    elif 'current weather in' in command:\n",
    "        reg_ex = re.search('current weather in (.*)', command)\n",
    "        if reg_ex:\n",
    "            city = reg_ex.group(1)\n",
    "            weather = Weather()\n",
    "            location = weather.lookup_by_location(city)\n",
    "            condition = location.condition()\n",
    "            talkToMe('The Current weather in %s is %s The tempeture is %.1f degree' % (city, condition.text(), (int(condition.temp())-32)/1.8))\n",
    "        \n",
    "    elif 'email' in command:\n",
    "        talkToMe('Who is the recipient?')\n",
    "        recipient = myCommand()\n",
    "\n",
    "        if 'navneet' in recipient:\n",
    "            talkToMe('What should I say?')\n",
    "            content = myCommand()\n",
    "\n",
    "            #init gmail SMTP\n",
    "            mail = smtplib.SMTP_SSL('smtp.gmail.com', 587)\n",
    "\n",
    "            #identify to server\n",
    "            mail.ehlo()\n",
    "\n",
    "            #encrypt session\n",
    "            mail.starttls()\n",
    "\n",
    "            #login\n",
    "            mail.login('abc@gmail', 'Your_password')\n",
    "\n",
    "            #send message\n",
    "            mail.sendmail('Name', 'xyz@gmail.com', content)\n",
    "\n",
    "            #end mail connection\n",
    "            mail.close()\n",
    "\n",
    "            talkToMe('Email sent.')\n",
    "\n",
    "        else:\n",
    "            talkToMe('I don\\'t know what you mean!')\n",
    "\n",
    "\n",
    "talkToMe('I am ready for your command')\n",
    "\n",
    "#loop to continue executing multiple commands\n",
    "while True:\n",
    "    assistant(myCommand())"
   ]
  },
  {
   "cell_type": "code",
   "execution_count": null,
   "metadata": {},
   "outputs": [],
   "source": []
  },
  {
   "cell_type": "code",
   "execution_count": null,
   "metadata": {},
   "outputs": [],
   "source": []
  }
 ],
 "metadata": {
  "kernelspec": {
   "display_name": "Python 3",
   "language": "python",
   "name": "python3"
  },
  "language_info": {
   "codemirror_mode": {
    "name": "ipython",
    "version": 3
   },
   "file_extension": ".py",
   "mimetype": "text/x-python",
   "name": "python",
   "nbconvert_exporter": "python",
   "pygments_lexer": "ipython3",
   "version": "3.7.6"
  }
 },
 "nbformat": 4,
 "nbformat_minor": 4
}
